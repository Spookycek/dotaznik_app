{
 "cells": [
  {
   "cell_type": "code",
   "execution_count": 1,
   "id": "3b0a24a9",
   "metadata": {},
   "outputs": [],
   "source": [
    "import warnings\n",
    "warnings.filterwarnings('ignore')\n",
    "\n",
    "import ipywidgets as widgets\n",
    "from ipywidgets import Video\n",
    "from IPython.display import display, clear_output\n",
    "import random\n",
    "import numpy as np\n",
    "import glob "
   ]
  },
  {
   "cell_type": "code",
   "execution_count": 2,
   "id": "4004d854",
   "metadata": {},
   "outputs": [],
   "source": [
    "from ipywidgets import Layout, Button, Box\n",
    "box_layout = Layout(display='flex',\n",
    "                    flex_flow='column',\n",
    "                    align_items='center',\n",
    "                    border='solid',\n",
    "                    width='50%')"
   ]
  },
  {
   "cell_type": "code",
   "execution_count": 3,
   "id": "c2f2b154",
   "metadata": {},
   "outputs": [],
   "source": [
    "vysledky = []\n",
    "vid_dir = 'videos'\n",
    "num_vid = 1\n",
    "# for file in (glob.glob('videos/*.mp4')): \n",
    "#     vid = file\n",
    "#     break"
   ]
  },
  {
   "cell_type": "code",
   "execution_count": 4,
   "id": "8aa5ba58",
   "metadata": {},
   "outputs": [],
   "source": [
    "def picVid(vid_dir):\n",
    "    files = []\n",
    "    vid =\"\"\n",
    "    for file in glob.glob(vid_dir+\"/*.mp4\"):\n",
    "        files.append(file.split(\"/\")[1].split(\"_\")[0])\n",
    "\n",
    "    np.array(files)\n",
    "    files = np.unique(files)\n",
    "    rn = random.choice(files)\n",
    "    #print(rn)\n",
    "    for file in(glob.glob(vid_dir+\"/*.mp4\")): \n",
    "        #print(file)\n",
    "        nazov = file.split(\"/\")[1].split(\"_\")[0]\n",
    "        #print(nazov, type(nazov),rn, type(rn))\n",
    "        if(nazov == rn):\n",
    "            #print(file)\n",
    "            vid = file\n",
    "    return vid"
   ]
  },
  {
   "cell_type": "code",
   "execution_count": 5,
   "id": "cfd643ed",
   "metadata": {},
   "outputs": [],
   "source": [
    "#vid = picVid(vid_dir)"
   ]
  },
  {
   "cell_type": "code",
   "execution_count": 6,
   "id": "4fa5b80f",
   "metadata": {},
   "outputs": [],
   "source": [
    "#tlačidla\n",
    "def on_button_clicked2(event):\n",
    "    \n",
    "    #dostatočna velkost?\n",
    "    zaznam = [grand.value, grand2.value, vys.value, friends.value, volny_text.value]\n",
    "    vysledky.append(zaznam)\n",
    "    #vbox_text.close()\n",
    "    \n",
    "    vid2 = picVid(vid_dir)\n",
    "    #print(\"vid2\",vid2)\n",
    "    nazov2 = vid2.split(\"/\")[1]\n",
    "    #print(\"nazovn oveho videa\", nazov2)\n",
    "    label_headline2 = widgets.Label(\n",
    "                    value=nazov2,\n",
    "                    style={'description_width': 'initial'}\n",
    "                )\n",
    "\n",
    "    video1_new = Video.from_file(vid2, play = True, width= 90, height = 90)\n",
    "    video2_new = Video.from_file(vid2, play = True, width= 90, height = 90)\n",
    "    videa_new = widgets.HBox([video1_new,video2_new,label_headline2])\n",
    "    text_test = widgets.HTML(value=\"<h1>TEST</h1>\")\n",
    "    \n",
    "    page_look_new = widgets.VBox([text_test,\n",
    "                                  videa_new,\n",
    "                                  text_1, \n",
    "                                  grand, \n",
    "                                  text_2,\n",
    "                                  grand2, \n",
    "                                  text_3,\n",
    "                                  vys, \n",
    "                                  text_4, \n",
    "                                  friends, \n",
    "                                  text_5,\n",
    "                                  volny_text, \n",
    "                                  button_test], \n",
    "                                 \n",
    "                                layout = box_layout)\n",
    "\n",
    "    page_look.close()\n",
    "    #j.close()\n",
    "   # display(page_look_new)\n",
    "    j.center = page_look_new\n",
    "#     print(\"zaznam je : \",zaznam)\n",
    "#     print(\"vid je \" ,vid)\n",
    "    #return zaznam"
   ]
  },
  {
   "cell_type": "code",
   "execution_count": 7,
   "id": "9484e1e0",
   "metadata": {},
   "outputs": [],
   "source": [
    "################################# povedzme úvodna stranka\n",
    "vid = picVid(vid_dir)\n",
    "nazov = vid.split(\"/\")[1]\n",
    "# print(\"nazovn oveho videa\", nazov)\n",
    "label_headline = widgets.Label(\n",
    "                    value=nazov,\n",
    "                    style={'description_width': 'initial'}\n",
    "                )\n",
    "\n",
    "\n",
    "video1 = Video.from_file(vid, play = True, width= 90, height = 90)\n",
    "video2 = Video.from_file(vid, play = True, width= 90, height = 90)\n",
    "videa = widgets.HBox([video1,video2, label_headline])\n",
    "\n",
    "\n",
    "grand = widgets.ToggleButtons(\n",
    "            options=['Áno', 'Nie']\n",
    "        )\n",
    "grand2 = widgets.ToggleButtons(\n",
    "            options=['Áno', 'Nie']\n",
    "        )\n",
    "friends = widgets.IntSlider(\n",
    "        value=5, # default value\n",
    "        min=0, \n",
    "        max=10,\n",
    "        step=1,\n",
    "        style={'description_width': 'initial', 'handle_color': '#16a085'} \n",
    "    )\n",
    "vys = widgets.IntSlider(\n",
    "            value=5, # default value\n",
    "            min=0, \n",
    "            max=10,\n",
    "            step=1,\n",
    "            style={'description_width': 'initial', 'handle_color': '#16a085'} \n",
    "        )\n",
    "button_test = widgets.Button(\n",
    "            description='Ďalej',\n",
    "            tooltip='Ďalšie video',\n",
    "            style={'description_width': 'initial'}\n",
    "        )\n",
    "output = widgets.Output()\n",
    "\n",
    "button_test.on_click(on_button_clicked2)\n",
    "\n",
    "vbox_result = widgets.VBox([button_test])\n",
    "text_0 = widgets.HTML(value= \"<h1>Metódy hlbokého učenia a ich vysvetliteľnosť použitá pre klasifikáciu kĺzavého pohybu pľúc</h1>\")\n",
    "text_1 = widgets.HTML(value=\"<h2>Dostatočne veľké video?</h2>\")\n",
    "text_2= widgets.HTML(value=\"<h2>Náš model klasifikoval video ako [hodnota] - Je video správne označené? </h2>\")\n",
    "text_3= widgets.HTML(value=\"<h2>Na škále od 1 do 10, ako je daná vysvetliteľnosť zrozumieteľná?</h2>\")\n",
    "text_4= widgets.HTML(value=\"<h2>Na škále od 1 do 10, ako dobre náš model zameriava na príznaky kĺzavého pohybu pľúc </h2>\")\n",
    "text_5= widgets.HTML(value=\"<h2>V nasledujúcom okne, môžete doplniť doplňujúce informácie (ľubovoľné)</h2>\")\n",
    "volny_text = widgets.Text(value='')\n",
    "page_look = widgets.VBox([videa,text_1, grand, text_2,grand2, text_3,vys, text_4, friends, text_5, volny_text, button_test], \n",
    "                    layout = box_layout)\n",
    "\n",
    "#print(vys.value)\n"
   ]
  },
  {
   "cell_type": "code",
   "execution_count": 8,
   "id": "689f43db",
   "metadata": {},
   "outputs": [],
   "source": [
    "from ipywidgets import AppLayout\n",
    "j = AppLayout(header = None,\n",
    "          left_sidebar=None,\n",
    "          center=page_look, \n",
    "          right_sidebar=None\n",
    "          )"
   ]
  },
  {
   "cell_type": "code",
   "execution_count": 9,
   "id": "66b9fd05",
   "metadata": {},
   "outputs": [
    {
     "data": {
      "application/vnd.jupyter.widget-view+json": {
       "model_id": "1dbd7a8a9d4c4266b752d4621ad7369e",
       "version_major": 2,
       "version_minor": 0
      },
      "text/plain": [
       "AppLayout(children=(VBox(children=(HBox(children=(Video(value=b'\\x00\\x00\\x00\\x1cftypisom\\x00\\x00\\x02\\x00isomis…"
      ]
     },
     "metadata": {},
     "output_type": "display_data"
    }
   ],
   "source": [
    "display(j)"
   ]
  },
  {
   "cell_type": "code",
   "execution_count": 19,
   "id": "80495432",
   "metadata": {},
   "outputs": [],
   "source": [
    "#vysledky"
   ]
  },
  {
   "cell_type": "code",
   "execution_count": 18,
   "id": "99878e14",
   "metadata": {},
   "outputs": [],
   "source": [
    "########## save vysledkov z dotaznika\n",
    "# with open('vysledky.txt', 'w') as filehandle:\n",
    "#     for listitem in vysledky:\n",
    "#         filehandle.write('%s\\n' % listitem)"
   ]
  }
 ],
 "metadata": {
  "kernelspec": {
   "display_name": "Python 3 (ipykernel)",
   "language": "python",
   "name": "python3"
  },
  "language_info": {
   "codemirror_mode": {
    "name": "ipython",
    "version": 3
   },
   "file_extension": ".py",
   "mimetype": "text/x-python",
   "name": "python",
   "nbconvert_exporter": "python",
   "pygments_lexer": "ipython3",
   "version": "3.7.12"
  }
 },
 "nbformat": 4,
 "nbformat_minor": 5
}
